{
  "nbformat": 4,
  "nbformat_minor": 0,
  "metadata": {
    "colab": {
      "name": "mlp.ipynb",
      "provenance": [],
      "collapsed_sections": [],
      "authorship_tag": "ABX9TyNIXCNHt8OU9LhrA8BcBWql",
      "include_colab_link": true
    },
    "kernelspec": {
      "name": "python3",
      "display_name": "Python 3"
    },
    "language_info": {
      "name": "python"
    }
  },
  "cells": [
    {
      "cell_type": "markdown",
      "metadata": {
        "id": "view-in-github",
        "colab_type": "text"
      },
      "source": [
        "<a href=\"https://colab.research.google.com/github/usmarcv/ai-notes/blob/main/mlp.ipynb\" target=\"_parent\"><img src=\"https://colab.research.google.com/assets/colab-badge.svg\" alt=\"Open In Colab\"/></a>"
      ]
    },
    {
      "cell_type": "markdown",
      "metadata": {
        "id": "w8hmlky4OBao"
      },
      "source": [
        "# Codando o Multilayer Perceptron \n",
        "## Algoritmo \n",
        "\n",
        "*   Inicializa os pesos com valores aleatórios\n",
        "*   Baseado nos dados (aprendizagem supervisionada), realiza os cálculos com pesos e calcula o erro\n",
        "* Calcula as mundanças nos pesos e os atualiza (backprop)\n",
        "* O algoritmo termina quando o erro é pequeno (momentum)\n",
        "\n"
      ]
    },
    {
      "cell_type": "code",
      "metadata": {
        "id": "DM56IsoZENhZ"
      },
      "source": [
        "import numpy as np #Utilizado para realização de operações numéricas\n",
        "import pandas as pd #Utilizado para vriar os dataframes para mostrar os gráficos (Heatmap)\n",
        "import matplotlib.pyplot as plt #Utilizado para visualizar os gráficos (Heatmap)\n",
        "import seaborn as sns #Utilizado para visualizar os gráficos (Heatmap)\n",
        "import math #Utilizado para calcular o log2()"
      ],
      "execution_count": null,
      "outputs": []
    },
    {
      "cell_type": "code",
      "metadata": {
        "id": "DeRr1luQF_-Y"
      },
      "source": [
        "#Tentando implementar uma MLP\n",
        "\n",
        "#Função sigmoide\n",
        "def sigmoid(soma):\n",
        "  return 1/(1+np.exp(-soma))\n",
        "\n",
        "#Função sigmoide derivada para o gradiente\n",
        "def sigmoidDerivada(sig):\n",
        "   return sig * (1 - sig)\n",
        "\n",
        "\n",
        "\n",
        "entradas = np.array([ [0,0], [0,1], [1, 0], [1,1] ])\n",
        "saidas = np.array([ [0], [1], [1], [0] ])\n",
        "#pesos0 = np.array([ [-0.424, -0.740, -0.961], [0.358, -0.577, -0.469] ])\n",
        "#pesos1 = np.array([ [-0.017], [-0.893], [0.148] ])\n",
        "\n",
        "#Gerando pesos aleatoriamente\n",
        "pesos0 = 2 * np.random.random((2,3)) - 1 #Multiplicando por 2 eu posso mesclar os valores em -n ... n\n",
        "pesos1 = 2 * np.random.random((3,1)) - 1\n",
        "\n",
        "epocas = 10000\n",
        "momento = 1\n",
        "taxaAprendizagem = 0.6\n",
        "\n",
        "for j in range(epocas): \n",
        "\n",
        "  #Calculo para a primeira camada\n",
        "  camadaEntrada = entradas\n",
        "  somaSinapse0 = np.dot(camadaEntrada, pesos0)\n",
        "  # ---\n",
        "  \n",
        "  #Calculo para camada oculta ---\n",
        "  camadaOculta = sigmoid(somaSinapse0)    \n",
        "  somaSinapse1 = np.dot(camadaOculta, pesos1)\n",
        "  camadaSaida = sigmoid(somaSinapse1)\n",
        "  # ---\n",
        "  \n",
        "  #Calculando o erro, com a rede de 51% com os valores declarados acima ---\n",
        "  erroCamadaSaida = saidas - camadaSaida\n",
        "  mediaAbsoluta = np.mean(np.abs(erroCamadaSaida))\n",
        "  print(\"Erro: \" + str(mediaAbsoluta)) \n",
        "  #---\n",
        "\n",
        "  derivadaSaida = sigmoidDerivada(camadaSaida)\n",
        "  deltaSaida = erroCamadaSaida * derivadaSaida\n",
        "\n",
        "  pesos1Transposta = pesos1.T\n",
        "  deltaSaidaXPeso = deltaSaida.dot(pesos1Transposta)\n",
        "  deltaCamadaOculta = deltaSaidaXPeso * sigmoidDerivada(camadaOculta)\n",
        "\n",
        "  #Atualiza os pesos com backprop\n",
        "  camadaOcultaTransposta = camadaOculta.T\n",
        "  pesosNovo1 = camadaOcultaTransposta.dot(deltaSaida)\n",
        "  pesos1 = (pesos1 * momento) + (pesosNovo1 * taxaAprendizagem) \n",
        "\n",
        "  camadaOcultaTransposta = camadaOculta.T\n",
        "  pesosNovo1 = camadaOcultaTransposta.dot(deltaSaida)\n",
        "  pesos1 = (pesos1 * momento) + (pesosNovo1 * taxaAprendizagem) \n",
        "\n",
        "  camadaEntradaTransposta = camadaEntrada.T\n",
        "  pesosNovo0 = camadaEntradaTransposta.dot(deltaCamadaOculta)\n",
        "  pesos0 = (pesos0 * momento) + (pesosNovo0 * taxaAprendizagem)\n"
      ],
      "execution_count": null,
      "outputs": []
    },
    {
      "cell_type": "markdown",
      "metadata": {
        "id": "kUe2UVFYjNMy"
      },
      "source": [
        "#Melhorando o código e implementando o Multilayer Perceptron"
      ]
    },
    {
      "cell_type": "code",
      "metadata": {
        "id": "qVkjEUSwjWxG"
      },
      "source": [
        "class Backprop:\n",
        "    def __init__(self, entradas, saidas, neuronios = 3, taxaAprendizagem = 0.05, epocas = 100000, momento = 1):\n",
        "        '''\n",
        "        Argumentos:\n",
        "\n",
        "        entradas -> Entradas possiveis\n",
        "        saidas -> Saidas esperadas de acordo com a porta lógica das possiveis entradas\n",
        "        neuronios -> Numero de neuronios na camada escondida\n",
        "        taxaAprendizagem -> Expressa a velocidade de convergenvia do algoritmo\n",
        "        epocas -> Numero de iteracoes para o treinamento\n",
        "        momento -> Momentum do algoritmo, tenta evitar os minimos locais\n",
        "        '''\n",
        "        self.entradas = entradas\n",
        "        self.saidas = saidas\n",
        "        self.neuronios = neuronios\n",
        "        self.taxaAprendizagem = taxaAprendizagem\n",
        "        self.epocas = epocas\n",
        "        self.momento = momento\n",
        "        self.pesos0 = 0.0\n",
        "        self.pesos1 = 0.0\n",
        "        self.camadaSaida = []\n",
        "        self.mediaAbsoluta = 0.0\n",
        "        self.erro = []\n",
        "\n",
        "    '''\n",
        "    Calcular o valor da funcao sigomoide (shape 'S') para o somatorio ja calculado\n",
        "    A funcao sigmoide retorna um valor real entre 0 e 1\n",
        "    '''\n",
        "    def sigmoid(self, soma):\n",
        "        return 1/(1+np.exp(-soma))\n",
        "\n",
        "    '''\n",
        "    Calcula a derivada - Direciona o grandiente para qual lado do gradiente e necessario atualizar os pesos\n",
        "    '''\n",
        "    def sigmoidDerivada(self, sig):\n",
        "       return sig * (1-sig)\n",
        "      \n",
        "    '''\n",
        "    Gera os pesos aleatoriamente\n",
        "    '''\n",
        "    def inicializaPesos(self):\n",
        "        Nin = len(self.entradas[0])\n",
        "        Nhidden = self.neuronios\n",
        "        Nout = len(self.saidas[0])\n",
        "        #Entrada * Camada escondida\n",
        "        self.pesos0 = 2 * np.random.random((Nin,Nhidden)) - 1\n",
        "        #Camada escondida * Saida\n",
        "        self.pesos1 = 2 * np.random.random((Nhidden,Nout)) - 1\n",
        "        print(\"Arquitetura da rede:\\nEntrada: \", Nin, \", Camada escondida: \", Nhidden, \", Saida: \", Nout)\n",
        "\n",
        "    '''\n",
        "    Treinamento da rede\n",
        "    '''\n",
        "    def treinamento(self):\n",
        "       for j in range(self.epocas):\n",
        "          '''\n",
        "          Calcula o somatorio inicial (entrada * pesos) e obtem o valor da funcao de ativacao.\n",
        "          '''\n",
        "          camadaEntrada = self.entradas #Copia a entrada para a variavel camadaEntrada\n",
        "          somaSinapse0 = np.dot(camadaEntrada, self.pesos0) #Faz a primeira etapa, a multiplicacao e soma de entradas pelos pesos\n",
        "          camadaOculta = self.sigmoid(somaSinapse0) #Com os valores do somatorio obtem-se o valor correspondente da funcao de ativacao sigmoide\n",
        "          '''\n",
        "           Calcula o somatorio posterior (camada escondinda * pesos) e obtem o valor da funcao de ativacao\n",
        "          '''\n",
        "          somaSinapse1 = np.dot(camadaOculta, self.pesos1) #Faz a segunda etapa, a multiplicacao e soma das entradas pelos pesos\n",
        "          self.camadaSaida = self.sigmoid(somaSinapse1)\n",
        "          '''\n",
        "          Calcula o erro (saida esperada - saida da rede) e a media absoluta dos erros\n",
        "          '''\n",
        "          erroCamadaSaida = self.saidas - self.camadaSaida #Calcula os erros\n",
        "          self.mediaAbsoluta = np.mean(np.abs(erroCamadaSaida)) #Calcula a media dos erros\n",
        "          self.erro.append(self.mediaAbsoluta) #Armazena os erros em uma lista de erros\n",
        "          '''\n",
        "          Realiza os calculos da derivada e do delta de saida\n",
        "          '''\n",
        "          derivadaSaida = self.sigmoidDerivada(self.camadaSaida)\n",
        "          deltaSaida = erroCamadaSaida * derivadaSaida\n",
        "          '''\n",
        "          Realiza os calculos do delta da camada escondida\n",
        "          '''\n",
        "          pesos1Transposta = self.pesos1.T #Faz a matriz transposta obedecer as regras de multiplicacao de mantrizes \n",
        "          deltaSaidaXPeso = deltaSaida.dot(pesos1Transposta) #Calcula o peso (delta saida * peso)\n",
        "          deltaCamadaOculta = deltaSaidaXPeso * self.sigmoidDerivada(camadaOculta) #Calcula o delta da camada escondida\n",
        "          '''\n",
        "          Faz a atualizacao dos pesos da saida com backprop\n",
        "          '''\n",
        "          camadaOcultaTransposta = camadaOculta.T\n",
        "          pesosNovo1 = camadaOcultaTransposta.dot(deltaSaida)\n",
        "          self.pesos1 = (self.pesos1 * self.momento) + (pesosNovo1 * self.taxaAprendizagem)\n",
        "          '''\n",
        "          Faz a atualizacao dos pesos da entrada com backprop\n",
        "          '''\n",
        "          camadaEntradaTransposta = camadaEntrada.T\n",
        "          pesosNovo0 = camadaEntradaTransposta.dot(deltaCamadaOculta)\n",
        "          self.pesos0 = (self.pesos0 * self.momento) + (pesosNovo0 * self.taxaAprendizagem)\n",
        "\n",
        "\n",
        "    '''\n",
        "    Realiza o arrendondamento da saida encontrada\n",
        "    '''\n",
        "    def arredonda(self, n):\n",
        "        if (n >= 0.5):\n",
        "            return 1\n",
        "        return 0\n",
        "\n",
        "    '''\n",
        "    Imprime a saida\n",
        "    '''\n",
        "    def imprime(self):\n",
        "        print(\"Erro após \" + str(self.epocas) + \"iterações: \" + str(self.mediaAbsoluta))\n",
        "        print(\"Percentual de acerto: \"+ str((1-self.mediaAbsoluta)* 100)+ \"%\")\n",
        "        for i in range(4):\n",
        "            n = self.arredonda(self.camadaSaida[i])\n",
        "            print(\"Entrada \" + str(self.entradas[i]) + \", Classe: \"+ str(self.camadaSaida[i])+\"\\tou[\" + str(n)+\"]\")\n",
        "\n",
        "    '''\n",
        "    Dados os pesos calculados no treinamento + uma entrada, retorna o resultado predito\n",
        "    '''\n",
        "    def propaga(self, entrada):\n",
        "        '''\n",
        "        Calcula o somatorio inicial (entrada * pesos) e obtem o valor da funcao de ativacao.\n",
        "        '''\n",
        "        camadaEntrada = entrada #Copia a entrada para a variavel camadaEntrada\n",
        "        somaSinapse0 = np.dot(camadaEntrada, self.pesos0) #Faz a primeira etapa, a multiplicacao e soma de entradas pelos pesos\n",
        "        camadaOculta = self.sigmoid(somaSinapse0) #Com os valores do somatorio obtem-se o valor correspondente da funcao de ativacao sigmoide\n",
        "\n",
        "        '''\n",
        "        Calcula o somatorio posterior (camada escondinda * pesos) e obtem o valor da funcao de ativacao\n",
        "        '''\n",
        "        somaSinapse1 = np.dot(camadaOculta, self.pesos1) #Faz a segunda etapa, a multiplicacao e soma das entradas pelos pesos\n",
        "        self.camadaSaida = self.sigmoid(somaSinapse1)   \n",
        "         \n",
        "        return self.camadaSaida\n",
        "      \n",
        "    '''\n",
        "    Apresenta o erro/loss/perda ao longo do treinamento\n",
        "    '''\n",
        "    def visualizaErro(self):\n",
        "        plt.figure(figsize=(6,4))\n",
        "        _x = [i for i in range(len(self.erro))]\n",
        "        _y = [i for i in (self.erro)]\n",
        "        plt.plot(_x, _y)\n",
        "        plt.title(\"Erro do treinamento\")\n",
        "        plt.ylabel(\"Erro\")\n",
        "        plt.xlabel(\"Épocas\")\n",
        "        plt.show()\n",
        "\n",
        "    def plota_grafico(self, entradas):\n",
        "        i = -0.1\n",
        "        while i < 1.1:\n",
        "            j = -0.1\n",
        "            while j < 1.1:\n",
        "                plt.xlabel('Eixo X')\n",
        "                plt.ylabel('Eixo Y')\n",
        "                plt.title('BACKPROPAGATION')\n",
        "                plt.grid(True)\n",
        "                if ([round(j,1), round(i,1)] in [[0.0,0.0],[0.0,1.0],[1.0,0.0],[1.0,1.0]]):\n",
        "                    marker = 'ko'\n",
        "                elif  self.propaga([i,j]) > 0.5:\n",
        "                    marker = 'yD'\n",
        "                else:\n",
        "                    marker = 'cs'\n",
        "                plt.plot(j, i, marker, markersize=10)\n",
        "                j += 0.1\n",
        "            i += 0.1\n",
        "        plt.show()"
      ],
      "execution_count": null,
      "outputs": []
    },
    {
      "cell_type": "markdown",
      "metadata": {
        "id": "1_jM_OAzSJR9"
      },
      "source": [
        "## **Definindo conjunto de entradas e saídas para portas lógicas**\n",
        "\n"
      ]
    },
    {
      "cell_type": "code",
      "metadata": {
        "id": "uWBIE6YMNZjA"
      },
      "source": [
        "entradas = np.array([[0,0], [0,1], [1,0], [1,1]])"
      ],
      "execution_count": null,
      "outputs": []
    },
    {
      "cell_type": "markdown",
      "metadata": {
        "id": "RRfd1ynfSzPE"
      },
      "source": [
        "## **Porta Lógica AND:** Linearmente separável"
      ]
    },
    {
      "cell_type": "code",
      "metadata": {
        "colab": {
          "base_uri": "https://localhost:8080/"
        },
        "id": "jTSo0fcRSzYr",
        "outputId": "68af3bfd-7c40-49b0-c9a8-d4a88e171ecb"
      },
      "source": [
        "\"\"\"Declarando as respectivas saidas\"\"\"\n",
        "saidas = np.array([[0],[0],[0],[1]])\n",
        "\n",
        "rede = Backprop(entradas, saidas)\n",
        "rede.inicializaPesos()\n",
        "rede.treinamento()"
      ],
      "execution_count": null,
      "outputs": [
        {
          "output_type": "stream",
          "name": "stdout",
          "text": [
            "Arquitetura da rede:\n",
            "Entrada:  2 , Camada escondida:  3 , Saida:  1\n"
          ]
        }
      ]
    },
    {
      "cell_type": "code",
      "metadata": {
        "colab": {
          "base_uri": "https://localhost:8080/",
          "height": 297
        },
        "id": "4AUoCTFbTJE5",
        "outputId": "41ff42d6-1e13-4a49-ca2a-eae43a6c9d27"
      },
      "source": [
        "rede.visualizaErro()"
      ],
      "execution_count": null,
      "outputs": [
        {
          "output_type": "display_data",
          "data": {
            "image/png": "[encoded data removed]",
            "text/plain": [
              "<Figure size 432x288 with 1 Axes>"
            ]
          },
          "metadata": {
            "needs_background": "light"
          }
        }
      ]
    },
    {
      "cell_type": "code",
      "metadata": {
        "colab": {
          "base_uri": "https://localhost:8080/"
        },
        "id": "K5xd0-O7WlBc",
        "outputId": "7e319a6e-856c-408e-eb0f-369704ed4666"
      },
      "source": [
        "rede.imprime()"
      ],
      "execution_count": null,
      "outputs": [
        {
          "output_type": "stream",
          "name": "stdout",
          "text": [
            "Erro após 100000iterações: 0.01286870458863527\n",
            "Percentual de acerto: 98.71312954113647%\n",
            "Entrada [0 0], Classe: [0.00213903]\tou[0]\n",
            "Entrada [0 1], Classe: [0.01527838]\tou[0]\n",
            "Entrada [1 0], Classe: [0.01279167]\tou[0]\n",
            "Entrada [1 1], Classe: [0.97873426]\tou[1]\n"
          ]
        }
      ]
    },
    {
      "cell_type": "code",
      "metadata": {
        "colab": {
          "base_uri": "https://localhost:8080/",
          "height": 295
        },
        "id": "54R8CqN4WoYL",
        "outputId": "2182ce9d-9dca-4ea7-f54b-8667b2f44d09"
      },
      "source": [
        "rede.plota_grafico(entradas)"
      ],
      "execution_count": null,
      "outputs": [
        {
          "output_type": "display_data",
          "data": {
            "image/png": "[encoded data removed]",
            "text/plain": [
              "<Figure size 432x288 with 1 Axes>"
            ]
          },
          "metadata": {
            "needs_background": "light"
          }
        }
      ]
    },
    {
      "cell_type": "markdown",
      "metadata": {
        "id": "cM11dABVipSi"
      },
      "source": [
        "## **Porta Lógica OR:** Lineramente separável"
      ]
    },
    {
      "cell_type": "code",
      "metadata": {
        "id": "FfOSsC4-XNvx",
        "colab": {
          "base_uri": "https://localhost:8080/"
        },
        "outputId": "4ab39a51-986d-4d72-f09a-5ae88290ad95"
      },
      "source": [
        "\"\"\"Declarando as respectivas saidas\"\"\"\n",
        "saidas = np.array([[0],[1],[1],[1]])\n",
        "\n",
        "rede = Backprop(entradas, saidas)\n",
        "rede.inicializaPesos()\n",
        "rede.treinamento()"
      ],
      "execution_count": null,
      "outputs": [
        {
          "output_type": "stream",
          "name": "stdout",
          "text": [
            "Arquitetura da rede:\n",
            "Entrada:  2 , Camada escondida:  3 , Saida:  1\n"
          ]
        }
      ]
    },
    {
      "cell_type": "code",
      "metadata": {
        "colab": {
          "base_uri": "https://localhost:8080/",
          "height": 297
        },
        "id": "--w2B1vajAo6",
        "outputId": "cab988c0-a68e-49ad-880c-e3659d3e3ba6"
      },
      "source": [
        "rede.visualizaErro()"
      ],
      "execution_count": null,
      "outputs": [
        {
          "output_type": "display_data",
          "data": {
            "image/png": "[encoded data removed]",
            "text/plain": [
              "<Figure size 432x288 with 1 Axes>"
            ]
          },
          "metadata": {
            "needs_background": "light"
          }
        }
      ]
    },
    {
      "cell_type": "code",
      "metadata": {
        "colab": {
          "base_uri": "https://localhost:8080/"
        },
        "id": "eTMpQr1YjDIE",
        "outputId": "c421a931-0487-484f-9722-410ff39f03e8"
      },
      "source": [
        "rede.imprime()"
      ],
      "execution_count": null,
      "outputs": [
        {
          "output_type": "stream",
          "name": "stdout",
          "text": [
            "Erro após 100000iterações: 0.01143755995488898\n",
            "Percentual de acerto: 98.85624400451111%\n",
            "Entrada [0 0], Classe: [0.01861008]\tou[0]\n",
            "Entrada [0 1], Classe: [0.98872449]\tou[1]\n",
            "Entrada [1 0], Classe: [0.98871177]\tou[1]\n",
            "Entrada [1 1], Classe: [0.99542358]\tou[1]\n"
          ]
        }
      ]
    },
    {
      "cell_type": "code",
      "metadata": {
        "colab": {
          "base_uri": "https://localhost:8080/",
          "height": 295
        },
        "id": "D1mT3sGZjD_H",
        "outputId": "fc8446c9-72fd-483d-b148-bf7cfb6d6e3f"
      },
      "source": [
        "rede.plota_grafico(entradas)"
      ],
      "execution_count": null,
      "outputs": [
        {
          "output_type": "display_data",
          "data": {
            "image/png": "[encoded data removed]",
            "text/plain": [
              "<Figure size 432x288 with 1 Axes>"
            ]
          },
          "metadata": {
            "needs_background": "light"
          }
        }
      ]
    },
    {
      "cell_type": "markdown",
      "metadata": {
        "id": "n4q18TMJjMao"
      },
      "source": [
        "## **Porta Lógica XOR:** Não-Linearmente separável"
      ]
    },
    {
      "cell_type": "code",
      "metadata": {
        "colab": {
          "base_uri": "https://localhost:8080/"
        },
        "id": "Z6J3qjbVjHfw",
        "outputId": "461bf5b1-5f81-48e9-8a5f-a266f5e4aa02"
      },
      "source": [
        "\"\"\"Declarando as respectivas saidas\"\"\"\n",
        "saidas = np.array([[0],[1],[1],[0]])\n",
        "\n",
        "rede = Backprop(entradas, saidas)\n",
        "rede.inicializaPesos()\n",
        "rede.treinamento()"
      ],
      "execution_count": null,
      "outputs": [
        {
          "output_type": "stream",
          "name": "stdout",
          "text": [
            "Arquitetura da rede:\n",
            "Entrada:  2 , Camada escondida:  3 , Saida:  1\n"
          ]
        }
      ]
    },
    {
      "cell_type": "code",
      "metadata": {
        "colab": {
          "base_uri": "https://localhost:8080/",
          "height": 297
        },
        "id": "a4eJCmU_jZCp",
        "outputId": "6e1280c9-d0c4-478d-e850-8e092cc7dfc1"
      },
      "source": [
        "rede.visualizaErro()"
      ],
      "execution_count": null,
      "outputs": [
        {
          "output_type": "display_data",
          "data": {
            "image/png": "[encoded data removed]",
            "text/plain": [
              "<Figure size 432x288 with 1 Axes>"
            ]
          },
          "metadata": {
            "needs_background": "light"
          }
        }
      ]
    },
    {
      "cell_type": "code",
      "metadata": {
        "colab": {
          "base_uri": "https://localhost:8080/"
        },
        "id": "EF65HKnFjdns",
        "outputId": "58e6f5c1-7785-47b2-dc52-3af033561969"
      },
      "source": [
        "rede.imprime()"
      ],
      "execution_count": null,
      "outputs": [
        {
          "output_type": "stream",
          "name": "stdout",
          "text": [
            "Erro após 100000iterações: 0.028740125328095056\n",
            "Percentual de acerto: 97.1259874671905%\n",
            "Entrada [0 0], Classe: [0.04641137]\tou[0]\n",
            "Entrada [0 1], Classe: [0.97136306]\tou[1]\n",
            "Entrada [1 0], Classe: [0.9713618]\tou[1]\n",
            "Entrada [1 1], Classe: [0.011274]\tou[0]\n"
          ]
        }
      ]
    },
    {
      "cell_type": "code",
      "metadata": {
        "colab": {
          "base_uri": "https://localhost:8080/",
          "height": 295
        },
        "id": "SryzIB94jfPF",
        "outputId": "6cd21a58-ef5a-4f9c-e0d0-3c3236bf3663"
      },
      "source": [
        "rede.plota_grafico(entradas)"
      ],
      "execution_count": null,
      "outputs": [
        {
          "output_type": "display_data",
          "data": {
            "image/png": "[encoded data removed]",
            "text/plain": [
              "<Figure size 432x288 with 1 Axes>"
            ]
          },
          "metadata": {
            "needs_background": "light"
          }
        }
      ]
    },
    {
      "cell_type": "markdown",
      "metadata": {
        "id": "Vy1BSTbSMIDL"
      },
      "source": [
        "**Créditos:** Sherlon Almeida, Gustavo Montrini e Márcus Vinícius"
      ]
    }
  ]
}